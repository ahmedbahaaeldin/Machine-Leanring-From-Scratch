{
 "cells": [
  {
   "cell_type": "markdown",
   "metadata": {},
   "source": [
    "# Support Vector Machine From Scratch"
   ]
  },
  {
   "cell_type": "code",
   "execution_count": 3,
   "metadata": {},
   "outputs": [],
   "source": [
    "#First we import our needed libraries \n",
    "import numpy as np\n",
    "from matplotlib import pyplot as plt\n",
    "%matplotlib inline"
   ]
  },
  {
   "cell_type": "markdown",
   "metadata": {},
   "source": [
    "# X is our input features and Y is our labels"
   ]
  },
  {
   "cell_type": "code",
   "execution_count": 87,
   "metadata": {},
   "outputs": [
    {
     "data": {
      "image/png": "[encoded data removed]",
      "text/plain": [
       "<Figure size 432x288 with 1 Axes>"
      ]
     },
     "metadata": {
      "needs_background": "light"
     },
     "output_type": "display_data"
    }
   ],
   "source": [
    "X = np.array([\n",
    "    [0,6],\n",
    "    [1,5],\n",
    "    [1,6],\n",
    "    [2,5],\n",
    "    [6,0],\n",
    "    [5,1],\n",
    "    [5,2],\n",
    "    [6,1]\n",
    "]\n",
    ")\n",
    "\n",
    "Y = np.array([1,1,1,1,-1,-1,-1,-1])\n",
    "\n",
    "for d,data in enumerate(X):\n",
    "    if d<4:\n",
    "        plt.scatter(data[0],data[1],s=120,marker=\"_\",linewidths=2)\n",
    "    else:\n",
    "        plt.scatter(data[0],data[1],s=120,marker=\"+\",linewidths=2)\n",
    "        \n"
   ]
  },
  {
   "cell_type": "markdown",
   "metadata": {},
   "source": [
    "# Now defining our Weights initially zeros and start training 100000 epochs"
   ]
  },
  {
   "cell_type": "code",
   "execution_count": 81,
   "metadata": {},
   "outputs": [
    {
     "data": {
      "text/plain": [
       "[<matplotlib.lines.Line2D at 0x2265ce87860>]"
      ]
     },
     "execution_count": 81,
     "metadata": {},
     "output_type": "execute_result"
    },
    {
     "data": {
      "image/png": "[encoded data removed]",
      "text/plain": [
       "<Figure size 432x288 with 1 Axes>"
      ]
     },
     "metadata": {
      "needs_background": "light"
     },
     "output_type": "display_data"
    }
   ],
   "source": [
    "W = np.zeros(X[0].shape)\n",
    "learning_rate=0.1\n",
    "epochs=100000\n",
    "errors=[]\n",
    "for epoch in range(1,epochs):\n",
    "    error = 0\n",
    "    #Stochastic Gradient Descent , Where we update every training example\n",
    "    for i,x in enumerate(X):\n",
    "        #Incorrect classification\n",
    "        if(Y[i]*np.dot(X[i],W))<1:\n",
    "            W = W + learning_rate * ((X[i]*Y[i])+(-2*(1/epoch)*W))\n",
    "            error=1\n",
    "        #Correct classification\n",
    "        else:\n",
    "            W = W + learning_rate * (-2*(1/epoch)*W)\n",
    "            \n",
    "    errors.append(error)\n",
    "\n",
    "plot.plot(errors,\"|\")\n"
   ]
  },
  {
   "cell_type": "markdown",
   "metadata": {},
   "source": [
    "# Plot our data again and see our decision boundary"
   ]
  },
  {
   "cell_type": "code",
   "execution_count": 88,
   "metadata": {},
   "outputs": [
    {
     "data": {
      "text/plain": [
       "<matplotlib.quiver.Quiver at 0x2265dc39c88>"
      ]
     },
     "execution_count": 88,
     "metadata": {},
     "output_type": "execute_result"
    },
    {
     "data": {
      "image/png": "[encoded data removed]",
      "text/plain": [
       "<Figure size 432x288 with 1 Axes>"
      ]
     },
     "metadata": {
      "needs_background": "light"
     },
     "output_type": "display_data"
    }
   ],
   "source": [
    "for d,data in enumerate(X):\n",
    "    if d<4:\n",
    "        plt.scatter(data[0],data[1],s=120,marker=\"_\",linewidths=2)\n",
    "    else:\n",
    "        plt.scatter(data[0],data[1],s=120,marker=\"+\",linewidths=2)\n",
    "\n",
    "d1=[W[0],W[1],-W[1],W[0]]\n",
    "d2=[W[0],W[1],W[1],-W[0]]\n",
    "dim=np.array([d1,d2])\n",
    "X,Y,U,V=zip(*dim)\n",
    "ax=plt.gca()\n",
    "ax.quiver(X,Y,U,V,scale=0.5,color='blue')"
   ]
  },
  {
   "cell_type": "code",
   "execution_count": 79,
   "metadata": {},
   "outputs": [
    {
     "data": {
      "text/plain": [
       "-0.3971466482089087"
      ]
     },
     "execution_count": 79,
     "metadata": {},
     "output_type": "execute_result"
    }
   ],
   "source": []
  },
  {
   "cell_type": "code",
   "execution_count": null,
   "metadata": {},
   "outputs": [],
   "source": []
  }
 ],
 "metadata": {
  "kernelspec": {
   "display_name": "Python 3",
   "language": "python",
   "name": "python3"
  },
  "language_info": {
   "codemirror_mode": {
    "name": "ipython",
    "version": 3
   },
   "file_extension": ".py",
   "mimetype": "text/x-python",
   "name": "python",
   "nbconvert_exporter": "python",
   "pygments_lexer": "ipython3",
   "version": "3.7.1"
  }
 },
 "nbformat": 4,
 "nbformat_minor": 2
}
